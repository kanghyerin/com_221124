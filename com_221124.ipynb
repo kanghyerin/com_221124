{
  "nbformat": 4,
  "nbformat_minor": 0,
  "metadata": {
    "colab": {
      "provenance": [],
      "authorship_tag": "ABX9TyMdfl3ssHO4lQLiT60eYS2B",
      "include_colab_link": true
    },
    "kernelspec": {
      "name": "python3",
      "display_name": "Python 3"
    },
    "language_info": {
      "name": "python"
    }
  },
  "cells": [
    {
      "cell_type": "markdown",
      "metadata": {
        "id": "view-in-github",
        "colab_type": "text"
      },
      "source": [
        "<a href=\"https://colab.research.google.com/github/kanghyerin/com_221124/blob/main/com_221124.ipynb\" target=\"_parent\"><img src=\"https://colab.research.google.com/assets/colab-badge.svg\" alt=\"Open In Colab\"/></a>"
      ]
    },
    {
      "cell_type": "code",
      "execution_count": 1,
      "metadata": {
        "colab": {
          "base_uri": "https://localhost:8080/"
        },
        "id": "wkqLRjgh-4-m",
        "outputId": "b07c899a-6b08-4a81-e6de-1c73b28f9a13"
      },
      "outputs": [
        {
          "output_type": "stream",
          "name": "stdout",
          "text": [
            "Enter grade:85\n",
            "Enter grade:80\n",
            "Enter grade:80\n",
            "Enter grade:70\n",
            "Enter grade:80\n",
            "Enter grade:70\n",
            "Enter grade:80\n",
            "Enter grade:50\n",
            "Enter grade:60\n",
            "Enter grade:60\n",
            "0.0\n"
          ]
        }
      ],
      "source": [
        "total = 0\n",
        "counter = 1\n",
        "grade = 0\n",
        "while counter <= 10:\n",
        "  int(input(\"Enter grade:\"))\n",
        "  total = grade + total\n",
        "  counter = counter + 1\n",
        "average = total / 10\n",
        "print(average)"
      ]
    },
    {
      "cell_type": "code",
      "source": [
        "a = 10\n",
        "b = 6000\n",
        "c = a * b\n",
        "print(c)"
      ],
      "metadata": {
        "colab": {
          "base_uri": "https://localhost:8080/"
        },
        "id": "9GgCc6uO-7FO",
        "outputId": "74e95ed6-e906-4094-aac0-b6dde1c6b305"
      },
      "execution_count": 2,
      "outputs": [
        {
          "output_type": "stream",
          "name": "stdout",
          "text": [
            "60000\n"
          ]
        }
      ]
    },
    {
      "cell_type": "code",
      "source": [
        "won = 100000\n",
        "usd = won * 1130\n",
        "print(usd)"
      ],
      "metadata": {
        "colab": {
          "base_uri": "https://localhost:8080/"
        },
        "id": "eJ8YFcu4_jMJ",
        "outputId": "7b7935b9-6e41-42de-e9e9-713e0e553bf1"
      },
      "execution_count": 3,
      "outputs": [
        {
          "output_type": "stream",
          "name": "stdout",
          "text": [
            "113000000\n"
          ]
        }
      ]
    },
    {
      "cell_type": "code",
      "source": [
        "fahrenheit = 100\n",
        "celsius = fahrenheit - 32\n",
        "celsius = celsius * 5\n",
        "celsius = celsius/9\n",
        "print(celsius)"
      ],
      "metadata": {
        "colab": {
          "base_uri": "https://localhost:8080/"
        },
        "id": "BS3lRJNd_rUW",
        "outputId": "9f1a349c-4c0c-446e-d270-f34b948c7982"
      },
      "execution_count": 4,
      "outputs": [
        {
          "output_type": "stream",
          "name": "stdout",
          "text": [
            "37.77777777777778\n"
          ]
        }
      ]
    },
    {
      "cell_type": "code",
      "source": [
        "price = int(input(\"상품의 가격을 입력하시오:\"))\n",
        "vat = price * 0.1\n",
        "print(vat)"
      ],
      "metadata": {
        "colab": {
          "base_uri": "https://localhost:8080/"
        },
        "id": "ModeXEZA_8N6",
        "outputId": "2d385da3-ec42-4e39-bf30-a82cc44fb555"
      },
      "execution_count": 5,
      "outputs": [
        {
          "output_type": "stream",
          "name": "stdout",
          "text": [
            "상품의 가격을 입력하시오:10000\n",
            "1000.0\n"
          ]
        }
      ]
    },
    {
      "cell_type": "code",
      "source": [
        "print(\"3개의 값을 입력하시오\")\n",
        "x = int(input(\"Enter the x:\"))\n",
        "y = int(input(\"Enter the y:\"))\n",
        "z = int(input(\"Enter the z:\"))\n",
        "x = x + 1\n",
        "y = y + 1\n",
        "z = z + 1\n",
        "print(\"변경된 값 : \", x, y, z)"
      ],
      "metadata": {
        "colab": {
          "base_uri": "https://localhost:8080/"
        },
        "id": "hrLOGvmhALKj",
        "outputId": "9fed8d5d-0a36-48d5-f4be-3f1e175ff377"
      },
      "execution_count": 6,
      "outputs": [
        {
          "output_type": "stream",
          "name": "stdout",
          "text": [
            "3개의 값을 입력하시오\n",
            "Enter the x:20\n",
            "Enter the y:30\n",
            "Enter the z:40\n",
            "변경된 값 :  21 31 41\n"
          ]
        }
      ]
    },
    {
      "cell_type": "code",
      "source": [
        "pay_rate = 8750\n",
        "hours_worked = int(input(\"일을 한 전체 시간 입력하세요!\"))\n",
        "monthly_pay = hours_worked * pay_rate\n",
        "print(monthly_pay)"
      ],
      "metadata": {
        "colab": {
          "base_uri": "https://localhost:8080/"
        },
        "id": "anncDIj5Aoa7",
        "outputId": "567c010a-ddd4-48a9-b83e-1c041735b87a"
      },
      "execution_count": 7,
      "outputs": [
        {
          "output_type": "stream",
          "name": "stdout",
          "text": [
            "일을 한 전체 시간 입력하세요!20\n",
            "175000\n"
          ]
        }
      ]
    },
    {
      "cell_type": "code",
      "source": [
        "exchange_rate = int(input(\"현재 환율입력:\"))\n",
        "won = 100000\n",
        "usd = won * exchange_rate\n",
        "print(usd)"
      ],
      "metadata": {
        "colab": {
          "base_uri": "https://localhost:8080/"
        },
        "id": "41pg2cQ9A-SF",
        "outputId": "3a3f99fb-6505-496d-9879-348a10a48c1f"
      },
      "execution_count": 8,
      "outputs": [
        {
          "output_type": "stream",
          "name": "stdout",
          "text": [
            "현재 환율입력:1130\n",
            "113000000\n"
          ]
        }
      ]
    },
    {
      "cell_type": "code",
      "source": [
        "x = 0\n",
        "y = 0\n",
        "x = int(input(\"정수 x를 입력하시오:\"))\n",
        "y = int(input(\"정수 y를 입력하시오:\"))\n",
        "sum = x + y\n",
        "print(sum)"
      ],
      "metadata": {
        "colab": {
          "base_uri": "https://localhost:8080/"
        },
        "id": "uj0pCpuTBO_I",
        "outputId": "85e1312c-cd94-42b3-b9f3-4da3b9797ab2"
      },
      "execution_count": 9,
      "outputs": [
        {
          "output_type": "stream",
          "name": "stdout",
          "text": [
            "정수 x를 입력하시오:10\n",
            "정수 y를 입력하시오:10\n",
            "20\n"
          ]
        }
      ]
    },
    {
      "cell_type": "code",
      "source": [
        "age = int(input(\"현재 나이를 입력하시오:\"))\n",
        "age = age + 10\n",
        "print(\"10년후면\", age, \"세가 되시는군요\")"
      ],
      "metadata": {
        "colab": {
          "base_uri": "https://localhost:8080/"
        },
        "id": "UJ1MyyZVBfhW",
        "outputId": "db93d170-295e-424a-ffbf-17901f7e0bd5"
      },
      "execution_count": 10,
      "outputs": [
        {
          "output_type": "stream",
          "name": "stdout",
          "text": [
            "현재 나이를 입력하시오:20\n",
            "10년후면 30 세가 되시는군요\n"
          ]
        }
      ]
    },
    {
      "cell_type": "code",
      "source": [
        "print(\"########################\")\n",
        "print(\"# 배송료 계산 프로그램 #\")\n",
        "print(\"########################\")\n",
        "price=int(input(\"상품의 가격을 입력하세요:\"))\n",
        "if price > 2000:\n",
        "  shipping_cost = 0\n",
        "else:\n",
        "  shipping_cost = 3000\n",
        "print(shipping_cost)"
      ],
      "metadata": {
        "colab": {
          "base_uri": "https://localhost:8080/"
        },
        "id": "JNRZnSgDBtNy",
        "outputId": "2211b82b-b1db-419a-a277-3ccead48b820"
      },
      "execution_count": 11,
      "outputs": [
        {
          "output_type": "stream",
          "name": "stdout",
          "text": [
            "########################\n",
            "# 배송료 계산 프로그램 #\n",
            "########################\n",
            "상품의 가격을 입력하세요:10000\n",
            "0\n"
          ]
        }
      ]
    },
    {
      "cell_type": "code",
      "source": [
        "print(\"########################\")\n",
        "print(\"# 합격 불합격 프로그램 #\")\n",
        "print(\"########################\")\n",
        "grade = int(input(\"성적을 입력하시오:\"))\n",
        "if grade >= 60:\n",
        "  print(\"합격\")\n",
        "else:\n",
        "  print(\"불합격\")"
      ],
      "metadata": {
        "colab": {
          "base_uri": "https://localhost:8080/"
        },
        "id": "SXbxVgRdCfFh",
        "outputId": "f20b7bd4-0705-4744-9bbd-fe059cf214fa"
      },
      "execution_count": 12,
      "outputs": [
        {
          "output_type": "stream",
          "name": "stdout",
          "text": [
            "########################\n",
            " 합격 불합격 프로그램 #\n",
            "########################\n",
            "성적을 입력하시오:70\n",
            "합격\n"
          ]
        }
      ]
    },
    {
      "cell_type": "code",
      "source": [
        "print(\"########################\")\n",
        "print(\"# 이름, 나이, 답변 앱 #\")\n",
        "print(\"########################\")\n",
        "yu_name = str(input(\"이름:\"))\n",
        "yu_age = int(input(\"나이:\"))\n",
        "if yu_age <= 25:\n",
        "  print(\"와우!!!프로그래밍을 완벽하게 배울수 있는 나이입니다!\")\n",
        "else:\n",
        "  print(\"포기하기에는 아직 늦지 않았습니다\")\n",
        "print(\" n\")"
      ],
      "metadata": {
        "colab": {
          "base_uri": "https://localhost:8080/"
        },
        "id": "j7DNX6q_C84k",
        "outputId": "dcfda6eb-76ff-446e-81d9-bc7636e1e96b"
      },
      "execution_count": 14,
      "outputs": [
        {
          "output_type": "stream",
          "name": "stdout",
          "text": [
            "########################\n",
            "  이름, 나이, 답변 앱  \n",
            "########################\n",
            "이름:혜린\n",
            "나이:20\n",
            "와우!!!프로그래밍을 완벽하게 배울수 있는 나이입니다!\n",
            " n\n"
          ]
        }
      ]
    },
    {
      "cell_type": "code",
      "source": [
        "print(\"########################\")\n",
        "print(\"# 짝수와 홀수 판별 앱-1 #\")\n",
        "print(\"########################\")\n",
        "\n",
        "sm_int = int(input(\"정수를 입력하시오:\"))\n",
        "if(sm_int % 2)!= 0 :\n",
        "  print(\"홀수\")\n",
        "else:\n",
        "  print(\"짝수\")"
      ],
      "metadata": {
        "colab": {
          "base_uri": "https://localhost:8080/"
        },
        "id": "mlG1MHQXDo3H",
        "outputId": "c9627893-8820-4d94-f495-52a1795c760a"
      },
      "execution_count": 15,
      "outputs": [
        {
          "output_type": "stream",
          "name": "stdout",
          "text": [
            "########################\n",
            "# 짝수와 홀수 판별 앱-1 #\n",
            "########################\n",
            "정수를 입력하시오:10\n",
            "짝수\n"
          ]
        }
      ]
    },
    {
      "cell_type": "code",
      "source": [
        "print(\"########################\")\n",
        "print(\"# 짝수와 홀수 판별 앱-2 #\")\n",
        "print(\"########################\")\n",
        "def printEvenOdd():\n",
        "    if userData % 2 == 0:\n",
        "        print('입력한 정수는 짝수입니다')\n",
        "    else:\n",
        "        print('입력한 정수는 홀수입니다')\n",
        "userData = int(input('정수를 입력하세요'))\n",
        "printEvenOdd()"
      ],
      "metadata": {
        "colab": {
          "base_uri": "https://localhost:8080/"
        },
        "id": "6WA024eLEL1a",
        "outputId": "1a210e7d-ee72-44b3-c98e-71174ca8f479"
      },
      "execution_count": 21,
      "outputs": [
        {
          "output_type": "stream",
          "name": "stdout",
          "text": [
            "########################\n",
            "# 짝수와 홀수 판별 앱-2 #\n",
            "########################\n",
            "정수를 입력하세요20\n",
            "입력한 정수는 짝수입니다\n"
          ]
        }
      ]
    },
    {
      "cell_type": "code",
      "source": [
        "intro = 'Good morning'\n",
        "print(intro)\n",
        "print(intro)\n",
        "print(intro)\n",
        "# 키보드를 통해서 입력값 받고 출력하기\n",
        "kor = input('국어 점수를 입력하세요:')\n",
        "eng = input('영어 점수를 입력하세요:')\n",
        "mat = input('수학 점수를 입력하세요:')\n",
        "print(\"국어\", kor)\n",
        "print(\"영어\", eng)\n",
        "print(\"수학\", mat)"
      ],
      "metadata": {
        "colab": {
          "base_uri": "https://localhost:8080/"
        },
        "id": "C4AjYlBDFg8S",
        "outputId": "7073a3d9-535b-4807-a8ef-8710b9ac0f4a"
      },
      "execution_count": 24,
      "outputs": [
        {
          "output_type": "stream",
          "name": "stdout",
          "text": [
            "Good morning\n",
            "Good morning\n",
            "Good morning\n",
            "국어 점수를 입력하세요:80\n",
            "영어 점수를 입력하세요:70\n",
            "수학 점수를 입력하세요:40\n",
            "국어 80\n",
            "영어 70\n",
            "수학 40\n"
          ]
        }
      ]
    },
    {
      "cell_type": "code",
      "source": [
        "kor = int(input('국어 점수를 입력하세요'))\n",
        "eng = int(input('영어 점수를 입력하세요'))\n",
        "mat = int(input('수학 점수를 입력하세요'))\n",
        "print('총점:',(kor+eng+mat))\n",
        "print('평균:',(kor+eng+mat)/3)"
      ],
      "metadata": {
        "colab": {
          "base_uri": "https://localhost:8080/"
        },
        "id": "vy9ZXqPKGQkj",
        "outputId": "8989d48d-9683-4475-ce98-d5404fff9c0b"
      },
      "execution_count": 25,
      "outputs": [
        {
          "output_type": "stream",
          "name": "stdout",
          "text": [
            "국어 점수를 입력하세요80\n",
            "영어 점수를 입력하세요70\n",
            "수학 점수를 입력하세요40\n",
            "총점: 190\n",
            "평균: 63.333333333333336\n"
          ]
        }
      ]
    },
    {
      "cell_type": "code",
      "source": [
        "#정수 2개 입력받아서 더하고, 2로 나누기\n",
        "num1 = int(input('첫 번째 정수를 입력하세요'))\n",
        "num2 = int(input('두 번째 정수를 입력하세요'))\n",
        "print('합:',num1 + num2)\n",
        "print('평균:',(num1 + num2)/2)"
      ],
      "metadata": {
        "colab": {
          "base_uri": "https://localhost:8080/"
        },
        "id": "X0lekITaGsA3",
        "outputId": "60d0a047-4f77-441c-811a-792960820bf7"
      },
      "execution_count": 26,
      "outputs": [
        {
          "output_type": "stream",
          "name": "stdout",
          "text": [
            "첫 번째 정수를 입력하세요20\n",
            "두 번째 정수를 입력하세요20\n",
            "합: 40\n",
            "평균: 20.0\n"
          ]
        }
      ]
    },
    {
      "cell_type": "code",
      "source": [
        "print('사용자 정보를 입력하세요')\n",
        "name = input('이름:')\n",
        "phone = input('연락처:')\n",
        "mail = input('메일:')\n",
        "job = input('직업:')\n",
        "print(name)\n",
        "print(phone)\n",
        "print(mail)\n",
        "print(job)"
      ],
      "metadata": {
        "colab": {
          "base_uri": "https://localhost:8080/"
        },
        "id": "ZG6oW8g0HIzd",
        "outputId": "97fa9e5d-1cc5-4f00-8106-eed4175d73fe"
      },
      "execution_count": 27,
      "outputs": [
        {
          "output_type": "stream",
          "name": "stdout",
          "text": [
            "사용자 정보를 입력하세요\n",
            "이름:혜린\n",
            "연락처:0101234567\n",
            "메일:ab12@naver.com\n",
            "직업:학생\n",
            "혜린\n",
            "0101234567\n",
            "ab12@naver.com\n",
            "학생\n"
          ]
        }
      ]
    },
    {
      "cell_type": "code",
      "source": [
        "import random\n",
        "ranNum = random.randint(1,100)\n",
        "print('홀/짝을 맞히세요')\n",
        "userNum = int(input(\"1.홀수, 2.짝수\"\"(1.또는 2.를 입력하세요)-\"))\n",
        "#userNum = int(input('1,홀수, 2.짝수'))\n",
        "\n",
        "if ranNum % 2 == userNum % 2:\n",
        "  print('맞혔습니다')\n",
        "else:\n",
        "  print('틀렸습니다')\n",
        "\n",
        "print('난수:', ranNum)\n",
        "print('사용자:', userNum)"
      ],
      "metadata": {
        "colab": {
          "base_uri": "https://localhost:8080/"
        },
        "id": "9uiSrlMKHqQo",
        "outputId": "956e01bc-7b23-4910-e20d-622895f75803"
      },
      "execution_count": 33,
      "outputs": [
        {
          "output_type": "stream",
          "name": "stdout",
          "text": [
            "홀/짝을 맞히세요\n",
            "1.홀수, 2.짝수(1.또는 2.를 입력하세요)-45\n",
            "틀렸습니다\n",
            "난수: 24\n",
            "사용자: 45\n"
          ]
        }
      ]
    },
    {
      "cell_type": "code",
      "source": [
        "morningTemp = int(input('아침 최저 기온:'))\n",
        "afternoonTemp = int(input('오후 최저 기온:'))\n",
        "gapTemp = afternoonTemp - morningTemp\n",
        "if gapTemp >= 10:print('감기 조심하세요')\n",
        "elif afternoonTemp >= 28:print('초여름 날씨입니다')"
      ],
      "metadata": {
        "colab": {
          "base_uri": "https://localhost:8080/"
        },
        "id": "k64SDJ2RI-LD",
        "outputId": "d4463c6d-4dff-475d-f250-e4fce3d4ba8d"
      },
      "execution_count": 34,
      "outputs": [
        {
          "output_type": "stream",
          "name": "stdout",
          "text": [
            "아침 최저 기온:10\n",
            "오후 최저 기온:20\n",
            "감기 조심하세요\n"
          ]
        }
      ]
    },
    {
      "cell_type": "code",
      "source": [
        "import random\n",
        "ranNum = random.randint(1, 3)\n",
        "print('가위, 바위, 보를 선택하세요')\n",
        "userNum = int(input('1.가위, 2.바위, 3.보'))\n",
        "\n",
        "if(ranNum == 1 and userNum == 2) or (ranNum == 2 and userNum == 3) or (ranNum == 3 and userNum == 1):\n",
        "  print('컴퓨터:패, 사용자: 승')\n",
        "elif(ranNum == 1 and userNum == 3) or (ranNum == 2 and userNum == 1) or (ranNum == 3 and userNum == 2):\n",
        "  print('컴퓨터:승, 사용자:패')\n",
        "elif ranNum == userNum:\n",
        "  print('무승부')\n",
        "\n",
        "print('사용자:', userNum)\n",
        "print('컴퓨터:', ranNum)"
      ],
      "metadata": {
        "colab": {
          "base_uri": "https://localhost:8080/"
        },
        "id": "Vacn0Wk_JbqZ",
        "outputId": "edde3503-f323-4f93-de02-c9b25544d66b"
      },
      "execution_count": 39,
      "outputs": [
        {
          "output_type": "stream",
          "name": "stdout",
          "text": [
            "가위, 바위, 보를 선택하세요\n",
            "1.가위, 2.바위, 3.보1\n",
            "컴퓨터:승, 사용자:패\n",
            "사용자: 1\n",
            "컴퓨터: 2\n"
          ]
        }
      ]
    },
    {
      "cell_type": "code",
      "source": [
        "userMessage = input('메시지를 입력하세요')\n",
        "MsgLen = len(userMessage)\n",
        "if MsgLen <= 50:\n",
        "  print('SMS 발송')\n",
        "else:\n",
        "  print('MMS 발송')\n",
        "print('메시지 길이:', MsgLen)"
      ],
      "metadata": {
        "colab": {
          "base_uri": "https://localhost:8080/"
        },
        "id": "fX-eo_HjMYt5",
        "outputId": "4dae3418-438c-4c14-b710-06d867aa3c44"
      },
      "execution_count": 40,
      "outputs": [
        {
          "output_type": "stream",
          "name": "stdout",
          "text": [
            "메시지를 입력하세요하이헬로\n",
            "SMS 발송\n",
            "메시지 길이: 4\n"
          ]
        }
      ]
    },
    {
      "cell_type": "code",
      "source": [
        "import random\n",
        "randonNum = random.randrange(1,101)\n",
        "userNum = int(input('1부터 100사이의 난수를 맞추세요'))\n",
        "macCount = 10\n",
        "count = 0\n",
        "\n",
        "while userNum != randonNum:\n",
        "  print('틀렸습니다. 다시 입력하세요')\n",
        "\n",
        "  if userNum > randonNum:\n",
        "    print('난수가 입력한 숫자보다 작습니다')\n",
        "  else:\n",
        "    print('난수가 입력한 숫자보다 큽니다')\n",
        "\n",
        "count += 1\n",
        "if count >= 10:\n",
        "    print('게임에 졌습니다')\n",
        "    'break'\n",
        "    userNum = int(input('1부터 100사이의 난수를 맞추세요'))\n",
        "else:\n",
        "  print('정답입니다')\n",
        "print('난수:',randonNum)"
      ],
      "metadata": {
        "id": "gPwGRAbQM8Uk"
      },
      "execution_count": null,
      "outputs": []
    }
  ]
}